{
 "cells": [
  {
   "cell_type": "code",
   "execution_count": 1,
   "metadata": {},
   "outputs": [],
   "source": [
    "import os   \n",
    "from nipype.interfaces.dcm2nii import Dcm2niix\n",
    "import shutil\n",
    "# folder names:\n",
    "folder_name = ['anat','func','dwi','other']\n",
    "subName = '1286'\n",
    "session = 'ses-2'\n",
    "source_dir = '/media/Data/neurofeedback/raw_scan_data/NF1286/nf1286_scan2_pb8143'\n",
    "output_dir = '/media/Data/neurofeedback/NIFTI/sub-1286'\n",
    "\n",
    "\n",
    "\n",
    "\n",
    "\n",
    "\n",
    "\n"
   ]
  },
  {
   "cell_type": "code",
   "execution_count": null,
   "metadata": {},
   "outputs": [],
   "source": [
    "#%% Convert functions Converts DICOM to NIFTI.GZ\n",
    "def convert (source_dir, output_dir, subName, session): # this is a function that takes input directory, output directory and subject name and then converts everything accordingly\n",
    "    try:\n",
    "        os.makedirs(os.path.join(output_dir, session))\n",
    "    except:\n",
    "        print (\"folder already there\")    \n",
    "    converter = Dcm2niix()\n",
    "    converter.inputs.source_dir = source_dir\n",
    "    converter.inputs.compression = 7\n",
    "    converter.inputs.output_dir = os.path.join( output_dir + '/' + session)\n",
    "    converter.inputs.out_filename = subName + '_%d , %a, %c'\n",
    "    converter.run()"
   ]
  },
  {
   "cell_type": "code",
   "execution_count": null,
   "metadata": {},
   "outputs": [],
   "source": [
    "#%% Check functions\n",
    "def checkGz (extension):\n",
    "     # check if nifti gz or something else\n",
    "    if extension[1] =='.gz':\n",
    "        return '.nii.gz'\n",
    "    else:\n",
    "        return extension[1]\n",
    "\n",
    "def checkTask(filename):\n",
    "    sep = 'bold'\n",
    "    rest = n.split(sep)[1] # takes the last part of filename\n",
    "    taskName = rest.split('.',1)[0]\n",
    "    return taskName.replace(\"_\",\"\")"
   ]
  },
  {
   "cell_type": "code",
   "execution_count": null,
   "metadata": {},
   "outputs": [],
   "source": [
    "#%% create folder structure \n",
    "# create folder structure\n",
    "fullPath = os.path.join(output_dir, session)\n",
    "os.makedirs(fullPath + '/dwi')\n",
    "os.makedirs(fullPath + '/anat')    \n",
    "os.makedirs(fullPath + '/func')\n",
    "os.makedirs(fullPath + '/misc')        \n",
    "# read using keys: (i.e. diff for dwi, bold for func, MPRAGE or T1 for anat)\n"
   ]
  },
  {
   "cell_type": "code",
   "execution_count": null,
   "metadata": {},
   "outputs": [],
   "source": [
    "#%% Run convertion function\n",
    "convert(source_dir, output_dir, subName, session) # run conversion"
   ]
  },
  {
   "cell_type": "code",
   "execution_count": null,
   "metadata": {},
   "outputs": [],
   "source": [
    "#%% run in the folder (session folder) and build file names\n",
    "a = next(os.walk(fullPath)) # list the subfolders under subject name\n",
    "\n",
    "# run through the possibilities and match directory with scan number (day)\n",
    "for n in a[2]:\n",
    "    print (n)\n",
    "    b = os.path.splitext(n)\n",
    "    \n",
    "    if n.find('diff')!=-1:\n",
    "        print ('This file is DWI')\n",
    "        shutil.move((fullPath +'/' + n), fullPath + '/dwi/' + n)\n",
    "        os.rename((os.path.join(fullPath, 'dwi' ,n)), (fullPath + '/' + 'dwi' +'/' +'sub-' + subName + '_' + session +'_dwi' + checkGz(b)))\n",
    "        \n",
    "        \n",
    "    elif n.find('MPRAGE')!=-1:\n",
    "        print (n + ' Is Anat')\n",
    "        shutil.move((fullPath + '/' + n), (fullPath + '/anat/' + n))\n",
    "        os.rename(os.path.join(fullPath,'anat' , n), (fullPath + '/anat/' + 'sub-'+subName+ '_' + session + '_T1w' + checkGz(b)))\n",
    "    elif n.find('bold')!=-1:\n",
    "        print(n  + ' Is functional')\n",
    "        taskName = checkTask(n)\n",
    "        shutil.move((fullPath + '/' + n), (fullPath + '/func/' + n))\n",
    "        os.rename(os.path.join(fullPath, 'func', n), (fullPath  + '/func/' +'sub-'+subName+'_' +session + '_task-' + taskName + '_bold' + checkGz(b)))\n",
    "    else:\n",
    "        print (n + 'Is MISC')\n",
    "        shutil.move((fullPath + '/' + n), (fullPath + '/misc/' + n))\n",
    "       # os.rename(os.path.join(fullPath, 'misc', n), (fullPath +'/misc/' +'sub-'+subName+'_ses-' +sessionNum + '_MISC' + checkGz(b)))\n",
    "\n"
   ]
  }
 ],
 "metadata": {
  "kernelspec": {
   "display_name": "Python 3",
   "language": "python",
   "name": "python3"
  },
  "language_info": {
   "codemirror_mode": {
    "name": "ipython",
    "version": 3
   },
   "file_extension": ".py",
   "mimetype": "text/x-python",
   "name": "python",
   "nbconvert_exporter": "python",
   "pygments_lexer": "ipython3",
   "version": "3.6.8"
  }
 },
 "nbformat": 4,
 "nbformat_minor": 2
}
