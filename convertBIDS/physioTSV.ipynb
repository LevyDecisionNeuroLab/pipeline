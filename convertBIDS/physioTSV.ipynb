{
 "cells": [
  {
   "cell_type": "code",
   "execution_count": 8,
   "id": "d01e5eb1-a842-4c26-abf8-cdf7c552aeba",
   "metadata": {},
   "outputs": [],
   "source": [
    "import gzip\n",
    "import json\n",
    "import re\n",
    "from glob import glob"
   ]
  },
  {
   "cell_type": "code",
   "execution_count": 9,
   "id": "592428d4-18d8-40d9-8bba-a0cbc33c8298",
   "metadata": {},
   "outputs": [],
   "source": [
    "\n",
    "# === Input file ===\n",
    "template = \"/Volumes/Current_Projects2-CC0931-Comparative_Medicine/Lab_Projects/PTSD_Subtyping_fMRI_MEG/BIDS_example subjects/BIDS/sub-1980/ses-1/perf/sub-1980_ses-1_*.txt\"\n",
    "\n",
    "\n"
   ]
  },
  {
   "cell_type": "code",
   "execution_count": 5,
   "id": "c6b9d993-fb63-4f36-85b2-6013a5d89261",
   "metadata": {},
   "outputs": [],
   "source": [
    "# === Helper function ===\n",
    "def parse_header(lines):\n",
    "    metadata = {\n",
    "        \"SamplingFrequency\": 100.0,  # You can set this based on \"2 msec/sample\"\n",
    "        \"StartTime\": 0.0,  # Can be updated if available\n",
    "        \"Columns\": [],\n",
    "        \"Manufacturer\": \"Biopac Systems Inc.\",\n",
    "    }\n",
    "\n",
    "    # Infer SamplingFrequency from \"2 msec/sample\"\n",
    "    for line in lines:\n",
    "        if \"msec/sample\" in line:\n",
    "            match = re.search(r\"(\\d+(\\.\\d+)?)\\s*msec/sample\", line)\n",
    "            if match:\n",
    "                period_ms = float(match.group(1))\n",
    "                metadata[\"SamplingFrequency\"] = 1000.0 / period_ms\n",
    "\n",
    "    # Get channel names and units\n",
    "    channel_names = []\n",
    "    units = []\n",
    "    descriptions = {\n",
    "        \"EDA100C-MRI\": \"Skin conductance level\",\n",
    "        \"ECG100C\": \"Cardiac electrical activity\",\n",
    "        \"Digital input\": \"Trigger or digital event marker\",\n",
    "        \"Stimulus\": \"Stimulus marker\",\n",
    "        \"Shock\": \"Shock delivery marker\"\n",
    "    }\n",
    "\n",
    "    i = 0\n",
    "    while i < len(lines):\n",
    "        line = lines[i].strip()\n",
    "        if line.startswith(\"CH\"):  # Header ends here\n",
    "            break\n",
    "        if line in descriptions:\n",
    "            ch_name = line.lower().split()[0]\n",
    "            channel_names.append(ch_name)\n",
    "            unit = lines[i+1].strip()\n",
    "            units.append(unit)\n",
    "            metadata[\"Columns\"].append(ch_name)\n",
    "            metadata[ch_name] = {\n",
    "                \"Description\": descriptions.get(line, \"\"),\n",
    "                \"Units\": unit\n",
    "            }\n",
    "            i += 2\n",
    "        else:\n",
    "            i += 1\n",
    "\n",
    "    return metadata, i"
   ]
  },
  {
   "cell_type": "code",
   "execution_count": 12,
   "id": "7ba92dac-0ce3-4259-a80d-333e65be3f26",
   "metadata": {},
   "outputs": [
    {
     "name": "stdout",
     "output_type": "stream",
     "text": [
      "/Volumes/Current_Projects2-CC0931-Comparative_Medicine/Lab_Projects/PTSD_Subtyping_fMRI_MEG/BIDS_example subjects/BIDS/sub-1980/ses-1/perf/sub-1980_ses-1_task-vr_physio.txt\n",
      "/Volumes/Current_Projects2-CC0931-Comparative_Medicine/Lab_Projects/PTSD_Subtyping_fMRI_MEG/BIDS_example subjects/BIDS/sub-1980/ses-1/perf/sub-1980_ses-1_task-happy_physio.txt\n",
      "/Volumes/Current_Projects2-CC0931-Comparative_Medicine/Lab_Projects/PTSD_Subtyping_fMRI_MEG/BIDS_example subjects/BIDS/sub-1980/ses-1/perf/sub-1980_ses-1_rest-rest1_physio.txt\n",
      "/Volumes/Current_Projects2-CC0931-Comparative_Medicine/Lab_Projects/PTSD_Subtyping_fMRI_MEG/BIDS_example subjects/BIDS/sub-1980/ses-1/perf/sub-1980_ses-1_task-egng_physio.txt\n",
      "/Volumes/Current_Projects2-CC0931-Comparative_Medicine/Lab_Projects/PTSD_Subtyping_fMRI_MEG/BIDS_example subjects/BIDS/sub-1980/ses-1/perf/sub-1980_ses-1_task-neutral_physio.txt\n",
      "/Volumes/Current_Projects2-CC0931-Comparative_Medicine/Lab_Projects/PTSD_Subtyping_fMRI_MEG/BIDS_example subjects/BIDS/sub-1980/ses-1/perf/sub-1980_ses-1_task-traumarecall_physio.txt\n"
     ]
    }
   ],
   "source": [
    "for input_file in glob(template):\n",
    "    print(input_file)\n",
    "    # === Output files ===\n",
    "    tsv_gz_file = input_file.replace(\".txt\", \".tsv.gz\")\n",
    "    json_file = input_file.replace(\".txt\", \".json\")\n",
    "    \n",
    "    with open(input_file, \"r\") as f:\n",
    "        lines = f.readlines()\n",
    "    \n",
    "    # Parse metadata and find where data starts\n",
    "    metadata, data_start_idx = parse_header(lines)\n",
    "    \n",
    "    # Find actual data start (first CH line)\n",
    "    while not lines[data_start_idx].strip().startswith(\"CH\"):\n",
    "        data_start_idx += 1\n",
    "    data_start_idx += 1  # Skip CH header line\n",
    "    \n",
    "    # Extract data\n",
    "    data_lines = lines[data_start_idx:]\n",
    "    \n",
    "    # Write TSV.GZ\n",
    "    with gzip.open(tsv_gz_file, \"wt\") as gz:\n",
    "        for line in data_lines:\n",
    "            gz.write(line)\n",
    "    \n",
    "    # Write JSON\n",
    "    with open(json_file, \"w\") as jf:\n",
    "        json.dump(metadata, jf, indent=4)"
   ]
  },
  {
   "cell_type": "code",
   "execution_count": null,
   "id": "00dd5b17-da28-458a-bbac-27988cb64154",
   "metadata": {},
   "outputs": [],
   "source": []
  }
 ],
 "metadata": {
  "kernelspec": {
   "display_name": "Python 3 (ipykernel)",
   "language": "python",
   "name": "python3"
  },
  "language_info": {
   "codemirror_mode": {
    "name": "ipython",
    "version": 3
   },
   "file_extension": ".py",
   "mimetype": "text/x-python",
   "name": "python",
   "nbconvert_exporter": "python",
   "pygments_lexer": "ipython3",
   "version": "3.12.9"
  }
 },
 "nbformat": 4,
 "nbformat_minor": 5
}
