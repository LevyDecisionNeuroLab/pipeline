{
 "cells": [
  {
   "cell_type": "markdown",
   "id": "2c922e19",
   "metadata": {},
   "source": [
    "# Instructions\n",
    "\n",
    "1. Review `Data Organization` and `Excel Scan Order Sheets` sections below.\n",
    "2. Move script file to BASE_SOURCE_FOLDER.\n",
    "3. Create new [projectName]_BIDS subdirectory in BASE_SOURCE_FOLDER if it does not already exist (e.g. `RAID_BIDS`).\n",
    "4. Then run the script cell-by-cell on your Linux machine.\n",
    "5. The last 2 cells include options for converting an entire directory vs a single participant. Run whichever you desire accordingly.\n",
    "\n",
    "Questions can be directed to Ohad (ohad.dan@yale.edu) or Chelsea (chelsea.xu@yale.edu)."
   ]
  },
  {
   "attachments": {
    "raid-SUBDIR-ex-3.png": {
     "image/png": "[encoded data removed]"
    }
   },
   "cell_type": "markdown",
   "id": "54007ea1",
   "metadata": {},
   "source": [
    "# Data Organization (of raw dicom files)\n",
    "\n",
    "To successfully run, this script assumes that the source files are all organized under:\n",
    "\n",
    "* BASE_SOURCE_FOLDER (e.g. `'/RAID/raw_dicom/'`)\n",
    "* That folder, contain one folder per participant, named projectName_participantId (e.g. `RAID_10` for a project named RAID and participant 10)\n",
    "* Each participant folder contains folders of scans, named projectName_participantId_scan[NUMBER]_someSuffix (e.g. `RAID_10_scan2_pc1079_levy` for the second scan), and excel sheets with the scan order for each scan, named projectName_participantID_scan[NUMBER]_order\n",
    "\n",
    "![raid-SUBDIR-ex-3.png](attachment:raid-SUBDIR-ex-3.png)"
   ]
  },
  {
   "attachments": {
    "raid-scan-order-ex.png": {
     "image/png": "[encoded data removed]"
    }
   },
   "cell_type": "markdown",
   "id": "f3bf5b70",
   "metadata": {},
   "source": [
    "# Excel Scan Order Sheets\n",
    "\n",
    "Excel sheets with scan order should contain 2 columns. The first colum should contain block number. Second column should contain task name (no spaces or underscores). Blocks of the same task should have a number after it (e.g. `gain1`, `gain2`). Aborted blocks should just be denoted by \"aborted\". See example below.\n",
    "\n",
    "![raid-scan-order-ex.png](attachment:raid-scan-order-ex.png)"
   ]
  },
  {
   "cell_type": "code",
   "execution_count": 1,
   "id": "04dd64d2",
   "metadata": {
    "scrolled": true
   },
   "outputs": [
    {
     "name": "stdout",
     "output_type": "stream",
     "text": [
      "Collecting package metadata (repodata.json): ...working... done\n",
      "Solving environment: ...working... done\n",
      "\n",
      "## Package Plan ##\n",
      "\n",
      "  environment location: C:\\ProgramData\\Anaconda3\\envs\\py37_dev\n",
      "\n",
      "  added / updated specs:\n",
      "    - dcm2niix\n",
      "\n",
      "\n",
      "The following packages will be downloaded:\n",
      "\n",
      "    package                    |            build\n",
      "    ---------------------------|-----------------\n",
      "    openssl-1.1.1n             |       h2bbff1b_0         5.8 MB\n",
      "    ------------------------------------------------------------\n",
      "                                           Total:         5.8 MB\n",
      "\n",
      "The following packages will be UPDATED:\n",
      "\n",
      "  openssl                                 1.1.1m-h2bbff1b_0 --> 1.1.1n-h2bbff1b_0\n",
      "\n",
      "\n",
      "\n",
      "Downloading and Extracting Packages\n",
      "\n",
      "Note: you may need to restart the kernel to use updated packages.\n",
      "\n",
      "openssl-1.1.1n       | 5.8 MB    |            |   0% \n",
      "openssl-1.1.1n       | 5.8 MB    | ###6       |  36% \n",
      "openssl-1.1.1n       | 5.8 MB    | ########## | 100% \n",
      "openssl-1.1.1n       | 5.8 MB    | ########## | 100% \n",
      "Preparing transaction: ...working... done\n",
      "Verifying transaction: ...working... done\n",
      "Executing transaction: ...working... done\n"
     ]
    }
   ],
   "source": [
    "conda install -c conda-forge/label/cf201901 dcm2niix"
   ]
  },
  {
   "cell_type": "code",
   "execution_count": 2,
   "id": "2c2ade97",
   "metadata": {},
   "outputs": [
    {
     "name": "stdout",
     "output_type": "stream",
     "text": [
      "Requirement already satisfied: openpyxl in c:\\programdata\\anaconda3\\envs\\py37_dev\\lib\\site-packages (3.0.9)\n",
      "Requirement already satisfied: et-xmlfile in c:\\programdata\\anaconda3\\envs\\py37_dev\\lib\\site-packages (from openpyxl) (1.1.0)\n"
     ]
    }
   ],
   "source": [
    "!pip install openpyxl"
   ]
  },
  {
   "cell_type": "code",
   "execution_count": 2,
   "id": "7c59cd1c",
   "metadata": {},
   "outputs": [],
   "source": [
    "import os\n",
    "from nipype.interfaces.dcm2nii import Dcm2niix\n",
    "import shutil\n",
    "import pandas as pd"
   ]
  },
  {
   "cell_type": "code",
   "execution_count": 3,
   "id": "bb0b00f1",
   "metadata": {},
   "outputs": [],
   "source": [
    "from pathlib import Path"
   ]
  },
  {
   "cell_type": "markdown",
   "id": "3f4a4970",
   "metadata": {},
   "source": [
    "# Script constants\n"
   ]
  },
  {
   "cell_type": "code",
   "execution_count": 26,
   "id": "bb80e568",
   "metadata": {},
   "outputs": [
    {
     "name": "stdout",
     "output_type": "stream",
     "text": [
      "['RAID', 'sub-10']\n"
     ]
    }
   ],
   "source": [
    "BASE_SOURCE_FOLDER = '.'\n",
    "PROJECT_NAME = os.getcwd().split('/')[-3]  ## Should extract the project name, e.g. 'RAID'\n",
    "BASE_OUTPUT_FOLDER = os.path.dirname(os.getcwd()) + '/' + PROJECT_NAME + '_BIDS'\n",
    "VERBOSE_MESSAGES = True"
   ]
  },
  {
   "cell_type": "markdown",
   "id": "657d9483",
   "metadata": {},
   "source": [
    "## Helper functions"
   ]
  },
  {
   "cell_type": "code",
   "execution_count": 6,
   "id": "3b542be5",
   "metadata": {},
   "outputs": [],
   "source": [
    "def get_all_session_folder_names_for_participant(subName):\n",
    "    '''\n",
    "    Return all the session folder names for the input participants.\n",
    "    For example, if a participant has sessions in the source folder named\n",
    "    RAID_10_scan1_pc1067_levy and RAID_10_scan2_pc1079_levy, this function \n",
    "    will return the list with ['RAID_10_scan1_pc1067_levy', 'RAID_10_scan2_pc1079_levy']\n",
    "    '''\n",
    "    participant_path = os.path.join(BASE_SOURCE_FOLDER, PROJECT_NAME + '_' + str(subName))\n",
    "    return next(os.walk(participant_path))[1]\n",
    "\n",
    "def debug_message(message):\n",
    "    if VERBOSE_MESSAGES:\n",
    "        print('###' + message)\n",
    "        \n",
    "def create_dir(path):\n",
    "    Path(path).mkdir(parents=True, exist_ok=True)\n",
    "    \n",
    "def participant_output_path(subName):\n",
    "    return BASE_OUTPUT_FOLDER + '/' + 'sub-' + str(subName) + '/'"
   ]
  },
  {
   "cell_type": "markdown",
   "id": "3fb2fdc2",
   "metadata": {},
   "source": [
    "# Run the BIDS conversion\n",
    "Documentation for the converter may be found [here](https://www.nitrc.org/plugins/mwiki/index.php/dcm2nii:MainPage#General_Usage) (e.g. what are the cryptic `%d, %a, %c`)"
   ]
  },
  {
   "cell_type": "code",
   "execution_count": 7,
   "id": "dc05127b",
   "metadata": {
    "scrolled": false
   },
   "outputs": [],
   "source": [
    "#%% Convert functions Converts DICOM to NIFTI.GZ\n",
    "def convert_single_session(converter, subName, session_folder, session_number):\n",
    "    '''\n",
    "    Perform bids conversion for a single session of a single participant.\n",
    "    converter:  Is a Dcm2niix object\n",
    "    participant_number: is an integer which identifies the participant\n",
    "    session_number: an integer representing a valid session of that participant\n",
    "    '''\n",
    "    converter = Dcm2niix()\n",
    "    converter.inputs.source_dir = BASE_SOURCE_FOLDER + '/' + PROJECT_NAME + '_' + str(subName) + '/' + session_folder\n",
    "    output_folder = participant_output_path(subName) + 'ses-' + str(session_number)\n",
    "    if os.path.isdir(output_folder): #check if output folder exists\n",
    "        debug_message('Folder ' + output_folder + ' already exists.')\n",
    "        if os.listdir(output_folder): #check if output folder is empty\n",
    "            debug_message('Folder ' + output_folder + ' already exists and is non-empty. Skipping conversion.')\n",
    "            return #stop execution if folder has items    \n",
    "    else: #otherwise make new output folder\n",
    "        os.mkdir(output_folder)\n",
    "    converter.inputs.output_dir = output_folder\n",
    "    \n",
    "    debug_message('Converting from: ' + converter.inputs.source_dir)\n",
    "    debug_message('Converting to: ' + converter.inputs.output_dir)\n",
    "    \n",
    "    converter.inputs.out_filename = str(subName) + '%d' + '%a' + '%c' + '_' + '%2s' # %2s adds the scan block number\n",
    "    ## 10_cmrr_mbep2d_bold(MB4iPAT2)a.nii.gz vs 10cmrr_mbep2d_bold(MB4iPAT2)HEA;HEPUnaliased_MB4_PE403.nii.gz\n",
    "    \n",
    "    converter.run()\n",
    "    return output_folder\n",
    "    \n",
    "def convert_single_participant(subName, converter):\n",
    "    participant_sessions = get_all_session_folder_names_for_participant(subName)\n",
    "    for session_number,session_folder_name in enumerate(participant_sessions): # session numbers are enumerated sequentially from 0, \n",
    "                                                                            # we add 1 to output sessions starting from 1\n",
    "        create_dir(participant_output_path(subName))\n",
    "        output_folder = convert_single_session(converter, subName, session_folder_name, session_number+1)\n",
    "    return participant_sessions, output_folder"
   ]
  },
  {
   "cell_type": "markdown",
   "id": "fc6710f7",
   "metadata": {},
   "source": [
    "# Organize conversion output to BIDS folder structure\n",
    "write function organize_directory to organize to BIDS format\n",
    "* __anat/__ - Anatomical holds the blocks: _mprage_, _flash_, _T2w_\n",
    "* __func/__ - Functional holds the task blocks\n",
    "* __dwi/__ - Diffusion weighted imaging\n",
    "* __misc/__ - Miscellaneous holds the blocks: _localizer_"
   ]
  },
  {
   "cell_type": "code",
   "execution_count": 20,
   "id": "92c21f2e",
   "metadata": {
    "scrolled": true
   },
   "outputs": [],
   "source": [
    "def file_suffix(file_name):\n",
    "    if file_name.endswith('json'):\n",
    "        return '.json'\n",
    "    if file_name.endswith('.nii.gz'):\n",
    "        return '.nii.gz'\n",
    "    if file_name.endswith('bvec'):\n",
    "        return '.bvec'\n",
    "    if file_name.endswith('bval'):\n",
    "        return '.bval'\n",
    "\n",
    "def get_all_files_in_dir(output_folder):\n",
    "    return next(os.walk(output_folder))[2]\n",
    "\n",
    "def get_file_subdir(file_name):\n",
    "    if 'T1w' in file_name:\n",
    "        return 'anat'\n",
    "    elif 'localizer' in file_name:\n",
    "        return 'misc'\n",
    "    elif 'aborted' in file_name:\n",
    "        return 'misc'\n",
    "    elif 'bold' in file_name:\n",
    "        return 'func'\n",
    "    elif 'T2w' in file_name:\n",
    "        return 'anat'\n",
    "    elif 'dwi' in file_name:\n",
    "        return 'dwi'\n",
    "    else:\n",
    "        return 'misc'\n",
    "    \n",
    "def get_file_new_name(subName, session, file_name):\n",
    "    if 'localizer' in file_name: \n",
    "        localizer_run_number = int(file_name.split('.')[0][-1])\n",
    "        return 'sub-' + str(subName) + '_ses-' + str(session) + '_' + 'localizer_run-' + str(localizer_run_number) + file_suffix(file_name)\n",
    "    elif 'MPRAGE' in file_name:\n",
    "        return 'sub-' + str(subName) + '_ses-' + str(session) + '_' + 'acq-mprage_T1w' + file_suffix(file_name)\n",
    "    elif 'diff' in file_name:\n",
    "        return 'sub-' + str(subName) + '_ses-' + str(session) + '_' + 'dwi' + file_suffix(file_name)\n",
    "    elif 't1_flash' in file_name:\n",
    "        return 'sub-' + str(subName) + '_ses-' + str(session) + '_' + 'acq-FLASH_T1w' + file_suffix(file_name)\n",
    "    elif 't2' in file_name:\n",
    "        return 'sub-' + str(subName) + '_ses-' + str(session) + '_' + 'T2w' + file_suffix(file_name)\n",
    "    else:\n",
    "        idx = int(file_name.split('.')[0].split('_')[-2]) - 1\n",
    "        blocks = read_scan_blocks (subName, session) #from excel sheet \n",
    "        return 'sub-' + str(subName) + '_ses-' + str(session) + '_task-' + blocks[idx] + '_bold' + file_suffix(file_name)\n",
    "\n",
    "def move_and_rename(file_name, file_target_subdirectory, file_new_name):\n",
    "    shutil.move(file_name, file_target_subdirectory + '/' + file_new_name)\n",
    "\n",
    "def organizeFiles(output_folder, subName, session):\n",
    "    all_files = get_all_files_in_dir(output_folder)\n",
    "    for file_name in all_files:\n",
    "        file_new_name = get_file_new_name(subName, session, file_name) #get new file name\n",
    "        print(\"Renaming \" + file_name + \" to \" + file_new_name)\n",
    "        file_target_subdirectory = get_file_subdir(file_new_name) #get new subdirectory for file\n",
    "        new_output_dir = str(output_folder) + '/' + file_target_subdirectory\n",
    "        if not os.path.exists(new_output_dir):\n",
    "            os.makedirs(new_output_dir)\n",
    "        # file_new_name = get_file_new_name(subName, session, file_name) #get new file name\n",
    "        move_and_rename(output_folder + '/' + file_name, output_folder + '/' + file_target_subdirectory, file_new_name) #move to subdirectory as new file name"
   ]
  },
  {
   "cell_type": "code",
   "execution_count": 9,
   "id": "cc3c4d71",
   "metadata": {
    "scrolled": true
   },
   "outputs": [
    {
     "name": "stdout",
     "output_type": "stream",
     "text": [
      "['localizer', 't1flash', 'aborted', 'task_loss', 'task_loss', 'task_gain', 'task_gain', 'resting']\n"
     ]
    }
   ],
   "source": [
    "def read_scan_blocks (sub_num, scan_num):\n",
    "    \"\"\"\n",
    "    \"\"\"\n",
    "    sub_name = PROJECT_NAME + '_' + str(sub_num)\n",
    "    scan_file = sub_name + '_scan' + str(scan_num) + '_order.xlsx'\n",
    "    file_name = BASE_SOURCE_FOLDER + '/' + sub_name + '/' + scan_file\n",
    "    dfs = pd.read_excel(file_name, sheet_name=None)\n",
    "    return list(dfs['Sheet1'].iloc[:,1])"
   ]
  },
  {
   "cell_type": "code",
   "execution_count": null,
   "id": "257b5794",
   "metadata": {},
   "outputs": [],
   "source": [
    "# for the entire directory\n",
    "\n",
    "subNames = [int(x.split('_')[1]) for x in next(os.walk(BASE_SOURCE_FOLDER))[1] if PROJECT_NAME in x and 'BIDS' not in x]\n",
    "subNames.sort()\n",
    "print(subNames)\n",
    "for subName in subNames:\n",
    "    print(subName)\n",
    "    participant_sessions = convert_single_participant(subName, Dcm2niix())\n",
    "    print(participant_sessions)\n",
    "    for session_number in range(len(participant_sessions)):\n",
    "        session = session_number + 1\n",
    "        output_folder = BASE_OUTPUT_FOLDER + '/' + 'sub-' + str(subName) + '/' + 'ses-' + str(session)\n",
    "        print(session)\n",
    "        organizeFiles(output_folder, subName, session)"
   ]
  },
  {
   "cell_type": "code",
   "execution_count": 23,
   "id": "c63fdc86",
   "metadata": {},
   "outputs": [],
   "source": [
    "# for a single subject\n",
    "\n",
    "subName = 10 #replace participant number e.g. \"subName = 10\"\n",
    "participant_sessions = convert_single_participant(subName, Dcm2niix())\n",
    "for session_number in range(len(participant_sessions)):\n",
    "    session = session_number + 1\n",
    "    output_folder = BASE_OUTPUT_FOLDER + '/' + 'sub-' + str(subName) + '/' + 'ses-' + str(session)\n",
    "    organizeFiles(output_folder, subName, session)"
   ]
  }
 ],
 "metadata": {
  "kernelspec": {
   "display_name": "Python 3 (ipykernel)",
   "language": "python",
   "name": "python3"
  },
  "language_info": {
   "codemirror_mode": {
    "name": "ipython",
    "version": 3
   },
   "file_extension": ".py",
   "mimetype": "text/x-python",
   "name": "python",
   "nbconvert_exporter": "python",
   "pygments_lexer": "ipython3",
   "version": "3.7.11"
  }
 },
 "nbformat": 4,
 "nbformat_minor": 5
}
