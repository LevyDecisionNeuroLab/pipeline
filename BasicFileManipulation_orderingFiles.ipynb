{
 "cells": [
  {
   "cell_type": "code",
   "execution_count": null,
   "metadata": {},
   "outputs": [],
   "source": [
    "import os\n",
    "import glob"
   ]
  },
  {
   "cell_type": "code",
   "execution_count": 35,
   "metadata": {},
   "outputs": [
    {
     "name": "stdout",
     "output_type": "stream",
     "text": [
      "['/home/oad4/project/kpe_Newanalysis/kpe_forFmriPrep/sub-1369/ses-1/func/sub-1369_ses-1_task-rest_bold.nii.gz', '/home/oad4/project/kpe_Newanalysis/kpe_forFmriPrep/sub-1351/ses-1/func/sub-1351_ses-1_task-rest_bold.nii.gz', '/home/oad4/project/kpe_Newanalysis/kpe_forFmriPrep/sub-1387/ses-1/func/sub-1387_ses-1_task-rest_bold.nii.gz', '/home/oad4/project/kpe_Newanalysis/kpe_forFmriPrep/sub-1364/ses-1/func/sub-1364_ses-1_task-rest_bold.nii.gz', '/home/oad4/project/kpe_Newanalysis/kpe_forFmriPrep/sub-1403/ses-1/func/sub-1403_ses-1_task-rest_bold.nii.gz', '/home/oad4/project/kpe_Newanalysis/kpe_forFmriPrep/sub-008/ses-1/func/sub-008_ses-1_task-rest_bold.nii.gz', '/home/oad4/project/kpe_Newanalysis/kpe_forFmriPrep/sub-1343/ses-1/func/sub-1343_ses-1_task-rest_bold.nii.gz', '/home/oad4/project/kpe_Newanalysis/kpe_forFmriPrep/sub-1307/ses-1/func/sub-1307_ses-1_task-rest_bold.nii.gz', '/home/oad4/project/kpe_Newanalysis/kpe_forFmriPrep/sub-1263/ses-1/func/sub-1263_ses-1_task-rest_bold.nii.gz', '/home/oad4/project/kpe_Newanalysis/kpe_forFmriPrep/sub-1322/ses-1/func/sub-1322_ses-1_task-rest_bold.nii.gz', '/home/oad4/project/kpe_Newanalysis/kpe_forFmriPrep/sub-1390/ses-1/func/sub-1390_ses-1_task-rest_bold.nii.gz', '/home/oad4/project/kpe_Newanalysis/kpe_forFmriPrep/sub-1223/ses-1/func/sub-1223_ses-1_task-rest_bold.nii.gz', '/home/oad4/project/kpe_Newanalysis/kpe_forFmriPrep/sub-1339/ses-1/func/sub-1339_ses-1_task-rest_bold.nii.gz', '/home/oad4/project/kpe_Newanalysis/kpe_forFmriPrep/sub-1293/ses-1/func/sub-1293_ses-1_task-rest_bold.nii.gz', '/home/oad4/project/kpe_Newanalysis/kpe_forFmriPrep/sub-1464/ses-1/func/sub-1464_ses-1_task-rest_bold.nii.gz', '/home/oad4/project/kpe_Newanalysis/kpe_forFmriPrep/sub-1356/ses-1/func/sub-1356_ses-1_task-rest_bold.nii.gz', '/home/oad4/project/kpe_Newanalysis/kpe_forFmriPrep/sub-1253/ses-1/func/sub-1253_ses-1_task-rest_bold.nii.gz']\n"
     ]
    }
   ],
   "source": [
    "anatList1 = glob.glob('/home/oad4/project/kpe_Newanalysis/kpe_forFmriPrep/sub-*/ses-1/func/sub-*_ses-*_task-rest_bold.nii.gz')\n",
    "print(anatList1)"
   ]
  },
  {
   "cell_type": "code",
   "execution_count": null,
   "metadata": {},
   "outputs": [],
   "source": [
    "from shutil import copyfile"
   ]
  },
  {
   "cell_type": "code",
   "execution_count": 34,
   "metadata": {},
   "outputs": [
    {
     "name": "stdout",
     "output_type": "stream",
     "text": [
      "sub-1369_ses-4_task-rest_bold.nii.gz\n",
      "sub-1351_ses-4_task-rest_bold.nii.gz\n",
      "sub-1364_ses-4_task-rest_bold.nii.gz\n",
      "sub-1403_ses-4_task-rest_bold.nii.gz\n",
      "sub-008_ses-4_task-rest_bold.nii.gz\n",
      "sub-1343_ses-4_task-rest_bold.nii.gz\n",
      "sub-1307_ses-4_task-rest_bold.nii.gz\n",
      "sub-1263_ses-4_task-rest_bold.nii.gz\n",
      "sub-1322_ses-4_task-rest_bold.nii.gz\n",
      "sub-1223_ses-4_task-rest_bold.nii.gz\n",
      "sub-1339_ses-4_task-rest_bold.nii.gz\n",
      "sub-1293_ses-4_task-rest_bold.nii.gz\n"
     ]
    }
   ],
   "source": [
    "for i in anatList1:\n",
    "   #print (i)\n",
    "   g = i.split('func/')\n",
    "   print (g[1])\n",
    "   copyfile(i, os.path.join('/home/oad4/project/kpe_Newanalysis/kpe_forFmriPrep/forConn/rest4/', g[1]))"
   ]
  }
 ],
 "metadata": {
  "kernelspec": {
   "display_name": "Python 3 (Spyder)",
   "language": "python3",
   "name": "python3"
  },
  "language_info": {
   "codemirror_mode": {
    "name": "ipython",
    "version": 3
   },
   "file_extension": ".py",
   "mimetype": "text/x-python",
   "name": "python",
   "nbconvert_exporter": "python",
   "pygments_lexer": "ipython3",
   "version": "3.6.7"
  }
 },
 "nbformat": 4,
 "nbformat_minor": 2
}
